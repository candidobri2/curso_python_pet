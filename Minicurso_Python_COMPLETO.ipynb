{
  "nbformat": 4,
  "nbformat_minor": 0,
  "metadata": {
    "colab": {
      "name": "Minicurso Python - COMPLETO.ipynb",
      "provenance": [],
      "authorship_tag": "ABX9TyMdLwhX9BTTG77SPvGIsQ0G",
      "include_colab_link": true
    },
    "kernelspec": {
      "name": "python3",
      "display_name": "Python 3"
    }
  },
  "cells": [
    {
      "cell_type": "markdown",
      "metadata": {
        "id": "view-in-github",
        "colab_type": "text"
      },
      "source": [
        "<a href=\"https://colab.research.google.com/github/candidobri2/curso_python_pet/blob/main/Minicurso_Python_COMPLETO.ipynb\" target=\"_parent\"><img src=\"https://colab.research.google.com/assets/colab-badge.svg\" alt=\"Open In Colab\"/></a>"
      ]
    },
    {
      "cell_type": "markdown",
      "metadata": {
        "id": "PWSnR3NfLY1u"
      },
      "source": [
        "# Minicurso de Python - Ciclo de Minicursos (Candido Brito//Gabriel Mota)\n"
      ]
    },
    {
      "cell_type": "markdown",
      "metadata": {
        "id": "ECTJHsegLjmF"
      },
      "source": [
        "## Primeiro comando e operadores aritméticos"
      ]
    },
    {
      "cell_type": "markdown",
      "metadata": {
        "id": "-IobUFd71t7E"
      },
      "source": [
        "Todo mundo que está aprendendo uma linguagem precisa começar imprimindo Olá, Mundo!, no Python, o comando para imprimir é print:\n"
      ]
    },
    {
      "cell_type": "code",
      "metadata": {
        "id": "9uYJYRm91jO_",
        "colab": {
          "base_uri": "https://localhost:8080/"
        },
        "outputId": "98bb4527-44b2-413f-b6ad-ff00f377e72f"
      },
      "source": [
        "print (\"Hello, World!\")"
      ],
      "execution_count": null,
      "outputs": [
        {
          "output_type": "stream",
          "name": "stdout",
          "text": [
            "Hello, World!\n"
          ]
        }
      ]
    },
    {
      "cell_type": "markdown",
      "metadata": {
        "id": "yvItyisi2EBL"
      },
      "source": [
        "Os parênteses marcam que o print é uma função.\n",
        "Se utilizarmos por exemplo: print \"Hello World\", dá um erro de síntaxe."
      ]
    },
    {
      "cell_type": "code",
      "metadata": {
        "id": "WtjNF3jm2G8H"
      },
      "source": [
        "print \"Hello World\""
      ],
      "execution_count": null,
      "outputs": []
    },
    {
      "cell_type": "code",
      "metadata": {
        "id": "CPRCJFAg2JhU"
      },
      "source": [
        "print (Hello world) #Esquecer das aspas também não dá certo (Aliás, isso aqui depois do jogo da velha é um comentário, não é lido como código)"
      ],
      "execution_count": null,
      "outputs": []
    },
    {
      "cell_type": "markdown",
      "metadata": {
        "id": "Cl1qdWII2Uv4"
      },
      "source": [
        "Vamos ver como utilizar os **operadores aritméticos básicos**\n"
      ]
    },
    {
      "cell_type": "code",
      "metadata": {
        "id": "cv_XSzSA2Yun",
        "colab": {
          "base_uri": "https://localhost:8080/"
        },
        "outputId": "751d8082-ad9e-4835-a2bb-a61284296ade"
      },
      "source": [
        "1+1\n"
      ],
      "execution_count": null,
      "outputs": [
        {
          "output_type": "execute_result",
          "data": {
            "text/plain": [
              "2"
            ]
          },
          "metadata": {},
          "execution_count": 7
        }
      ]
    },
    {
      "cell_type": "code",
      "metadata": {
        "id": "d0XuuwOU2iqe",
        "colab": {
          "base_uri": "https://localhost:8080/",
          "height": 34
        },
        "outputId": "d92f4308-7f53-4ff6-d963-55fe788092e0"
      },
      "source": [
        "1-1"
      ],
      "execution_count": null,
      "outputs": [
        {
          "output_type": "execute_result",
          "data": {
            "text/plain": [
              "0"
            ]
          },
          "metadata": {
            "tags": []
          },
          "execution_count": 7
        }
      ]
    },
    {
      "cell_type": "code",
      "metadata": {
        "id": "mAZo0Yrg2ps2",
        "colab": {
          "base_uri": "https://localhost:8080/",
          "height": 34
        },
        "outputId": "baf20cbe-5bd2-4b8e-a402-6e4bf527d95c"
      },
      "source": [
        "2*2"
      ],
      "execution_count": null,
      "outputs": [
        {
          "output_type": "execute_result",
          "data": {
            "text/plain": [
              "4"
            ]
          },
          "metadata": {
            "tags": []
          },
          "execution_count": 8
        }
      ]
    },
    {
      "cell_type": "code",
      "metadata": {
        "id": "lAlpVCHL2tUC",
        "colab": {
          "base_uri": "https://localhost:8080/",
          "height": 34
        },
        "outputId": "ce75b14e-34f9-40c3-d115-9701fc8ded66"
      },
      "source": [
        "2/3"
      ],
      "execution_count": null,
      "outputs": [
        {
          "output_type": "execute_result",
          "data": {
            "text/plain": [
              "0.6666666666666666"
            ]
          },
          "metadata": {
            "tags": []
          },
          "execution_count": 10
        }
      ]
    },
    {
      "cell_type": "code",
      "metadata": {
        "id": "O5nwQCu02rVm",
        "colab": {
          "base_uri": "https://localhost:8080/",
          "height": 34
        },
        "outputId": "40792187-6b0e-4c49-c93e-d257c043a221"
      },
      "source": [
        "2**3"
      ],
      "execution_count": null,
      "outputs": [
        {
          "output_type": "execute_result",
          "data": {
            "text/plain": [
              "8"
            ]
          },
          "metadata": {
            "tags": []
          },
          "execution_count": 9
        }
      ]
    },
    {
      "cell_type": "code",
      "metadata": {
        "id": "ndyVfgp_2uZ0",
        "colab": {
          "base_uri": "https://localhost:8080/",
          "height": 34
        },
        "outputId": "11cc5822-f30e-4115-c886-d341d30daa3e"
      },
      "source": [
        "2//3"
      ],
      "execution_count": null,
      "outputs": [
        {
          "output_type": "execute_result",
          "data": {
            "text/plain": [
              "0"
            ]
          },
          "metadata": {
            "tags": []
          },
          "execution_count": 11
        }
      ]
    },
    {
      "cell_type": "code",
      "metadata": {
        "id": "eSR8D17e2vPT",
        "colab": {
          "base_uri": "https://localhost:8080/",
          "height": 34
        },
        "outputId": "baa5fb12-809b-43a4-a8a5-1b04e7b30f3e"
      },
      "source": [
        "5//2\n"
      ],
      "execution_count": null,
      "outputs": [
        {
          "output_type": "execute_result",
          "data": {
            "text/plain": [
              "2"
            ]
          },
          "metadata": {
            "tags": []
          },
          "execution_count": 12
        }
      ]
    },
    {
      "cell_type": "markdown",
      "metadata": {
        "id": "AjoUOrQJ265w"
      },
      "source": [
        "O Python aceita utilizar o menos sem parêntes"
      ]
    },
    {
      "cell_type": "code",
      "metadata": {
        "id": "ri2yG03S2-uZ",
        "colab": {
          "base_uri": "https://localhost:8080/",
          "height": 34
        },
        "outputId": "081e93ed-9b83-4902-9a91-c33bfc0e3626"
      },
      "source": [
        "-1+2"
      ],
      "execution_count": null,
      "outputs": [
        {
          "output_type": "execute_result",
          "data": {
            "text/plain": [
              "1"
            ]
          },
          "metadata": {
            "tags": []
          },
          "execution_count": 13
        }
      ]
    },
    {
      "cell_type": "markdown",
      "metadata": {
        "id": "VYPcTKxa3FUg"
      },
      "source": [
        "Mas ele não aceita utilizar zeros a esquerda"
      ]
    },
    {
      "cell_type": "code",
      "metadata": {
        "id": "f4zsxuZp3DkR"
      },
      "source": [
        "01+1"
      ],
      "execution_count": null,
      "outputs": []
    },
    {
      "cell_type": "code",
      "metadata": {
        "id": "CWZF5ham3JRd"
      },
      "source": [
        "1 1 # Também não aceita números sem operadores entre eles (Mais um comentário, só pra você entender que pode fazer isso onde quiser)"
      ],
      "execution_count": null,
      "outputs": []
    },
    {
      "cell_type": "markdown",
      "metadata": {
        "id": "8b7TTlU08dit"
      },
      "source": [
        "##Variáveis\n"
      ]
    },
    {
      "cell_type": "markdown",
      "metadata": {
        "id": "MbFBQ7YQ9N0z"
      },
      "source": [
        "Recursos mais eficientes de linguagens é manipular variáveis. Uma variável é um nome que representa um valor. O valor pode ser outro nome, um número, expressões de V e F."
      ]
    },
    {
      "cell_type": "markdown",
      "metadata": {
        "id": "-mvlSQdQ-Bz7"
      },
      "source": [
        "Como eu faço isso? \"Atribuir\" um valor a variável?"
      ]
    },
    {
      "cell_type": "code",
      "metadata": {
        "id": "9a3DBlu-9-jw"
      },
      "source": [
        "mensagem=\"O Ciclo de Minicursos está na segunda semana\""
      ],
      "execution_count": null,
      "outputs": []
    },
    {
      "cell_type": "code",
      "metadata": {
        "id": "XW43jSG2-LY8"
      },
      "source": [
        "pi=3.15"
      ],
      "execution_count": null,
      "outputs": []
    },
    {
      "cell_type": "code",
      "metadata": {
        "id": "Uwn3QZJZ-Ode",
        "colab": {
          "base_uri": "https://localhost:8080/",
          "height": 35
        },
        "outputId": "9a8e8a76-d36b-4c45-8267-93851217250d"
      },
      "source": [
        "mensagem"
      ],
      "execution_count": null,
      "outputs": [
        {
          "output_type": "execute_result",
          "data": {
            "application/vnd.google.colaboratory.intrinsic+json": {
              "type": "string"
            },
            "text/plain": [
              "'O Ciclo de Minicursos está na segunda semana'"
            ]
          },
          "metadata": {
            "tags": []
          },
          "execution_count": 23
        }
      ]
    },
    {
      "cell_type": "code",
      "metadata": {
        "id": "W4VHu1QB6WMA",
        "colab": {
          "base_uri": "https://localhost:8080/",
          "height": 34
        },
        "outputId": "154493e3-1092-4888-959c-9f33739ef7fc"
      },
      "source": [
        "print(mensagem,\"e semana que vem tem mais\")"
      ],
      "execution_count": null,
      "outputs": [
        {
          "output_type": "stream",
          "text": [
            "O Ciclo de Minicursos está na segunda semana e semana que vem tem mais\n"
          ],
          "name": "stdout"
        }
      ]
    },
    {
      "cell_type": "code",
      "metadata": {
        "id": "84w6z5uW6tIE",
        "colab": {
          "base_uri": "https://localhost:8080/",
          "height": 35
        },
        "outputId": "1b0f5fed-c2a3-4f22-eaa9-f614115ac934"
      },
      "source": [
        ""
      ],
      "execution_count": null,
      "outputs": [
        {
          "output_type": "execute_result",
          "data": {
            "application/vnd.google.colaboratory.intrinsic+json": {
              "type": "string"
            },
            "text/plain": [
              "'SuperMan'"
            ]
          },
          "metadata": {
            "tags": []
          },
          "execution_count": 24
        }
      ]
    },
    {
      "cell_type": "markdown",
      "metadata": {
        "id": "tXO3keQQoKKE"
      },
      "source": [
        "Esse exemplo faz três atribuições. A primeira atribui uma string a uma nova variável\n",
        "chamada mensagem; a segunda dá o número inteiro 17 a n; a terceira atribui o valor\n",
        "(aproximado) de π a pi"
      ]
    },
    {
      "cell_type": "markdown",
      "metadata": {
        "id": "5aX3oRtQsgaf"
      },
      "source": [
        "### Nome das variáveis\n"
      ]
    },
    {
      "cell_type": "markdown",
      "metadata": {
        "id": "i117pF7zskj_"
      },
      "source": [
        "Algumas convenções para a criação de variáveis:\n",
        "\n",
        "*   Nomes de variáveis só podem utilizar letras, números e o caractere `_`, que é geralmente utilizado ao invés de espaço.\n",
        "*   Nomes de variaveis em Python não podem começar com números.\n",
        "*   Nomes de funções básicas do Python não podem ser utilizadas como variáveis, como, por exemplo `for`, `while`, etc.\n",
        "*   Comumente utilizamos nomes de variáveis totalmente em minúscula, usando `_` para separar palavras. Por exemplo: **variavel**, **minha_variavel**, **resultado_funcao**, etc.\n",
        "\n",
        "Cuidado com o erro `NameError`. Se você receber essa mensagem de erro, isso geralmente significa que você confundiu o nome de uma variável que você criou. Por exemplo:\n",
        "\n"
      ]
    },
    {
      "cell_type": "code",
      "metadata": {
        "id": "ZEm_725xtHnV",
        "colab": {
          "base_uri": "https://localhost:8080/",
          "height": 180
        },
        "outputId": "357d2f2a-1f5f-440a-f441-77e64dee6310"
      },
      "source": [
        "mensagem_de_aviso=\"Isto é um aviso\"\n",
        "print(mensagem_de_avis)"
      ],
      "execution_count": null,
      "outputs": [
        {
          "output_type": "error",
          "ename": "NameError",
          "evalue": "ignored",
          "traceback": [
            "\u001b[0;31m---------------------------------------------------------------------------\u001b[0m",
            "\u001b[0;31mNameError\u001b[0m                                 Traceback (most recent call last)",
            "\u001b[0;32m<ipython-input-2-1a5769440917>\u001b[0m in \u001b[0;36m<module>\u001b[0;34m()\u001b[0m\n\u001b[1;32m      1\u001b[0m \u001b[0mmensagem_de_aviso\u001b[0m\u001b[0;34m=\u001b[0m\u001b[0;34m\"Isto é um aviso\"\u001b[0m\u001b[0;34m\u001b[0m\u001b[0;34m\u001b[0m\u001b[0m\n\u001b[0;32m----> 2\u001b[0;31m \u001b[0mprint\u001b[0m\u001b[0;34m(\u001b[0m\u001b[0mmensagem_de_avis\u001b[0m\u001b[0;34m)\u001b[0m\u001b[0;34m\u001b[0m\u001b[0;34m\u001b[0m\u001b[0m\n\u001b[0m",
            "\u001b[0;31mNameError\u001b[0m: name 'mensagem_de_avis' is not defined"
          ]
        }
      ]
    },
    {
      "cell_type": "markdown",
      "metadata": {
        "id": "j4_R92ha2mro"
      },
      "source": [
        "#### Variáveis dinâmicas"
      ]
    },
    {
      "cell_type": "markdown",
      "metadata": {
        "id": "Atth6oLxL-qa"
      },
      "source": [
        "No Python, as variáveis são dinâmicas. Ou seja, eu posso declarar a variável numero_qualquer como 2: "
      ]
    },
    {
      "cell_type": "code",
      "metadata": {
        "id": "s3HmfOXpyVeM"
      },
      "source": [
        "numero_qualquer=2"
      ],
      "execution_count": null,
      "outputs": []
    },
    {
      "cell_type": "code",
      "metadata": {
        "id": "jkNg2zZjyUwL",
        "colab": {
          "base_uri": "https://localhost:8080/",
          "height": 34
        },
        "outputId": "ac588506-8c11-4056-e156-c3609200c22f"
      },
      "source": [
        "print(numero_qualquer)"
      ],
      "execution_count": null,
      "outputs": [
        {
          "output_type": "stream",
          "text": [
            "2\n"
          ],
          "name": "stdout"
        }
      ]
    },
    {
      "cell_type": "markdown",
      "metadata": {
        "id": "mIAbQHBbMRhP"
      },
      "source": [
        "Depois dizer que ela vale 50, e ela deixa de ser 2 e vira 50\n"
      ]
    },
    {
      "cell_type": "code",
      "metadata": {
        "id": "lcSSrEjF0HuA"
      },
      "source": [
        "numero_qualquer=50"
      ],
      "execution_count": null,
      "outputs": []
    },
    {
      "cell_type": "code",
      "metadata": {
        "id": "bEtqLVD80J2W",
        "colab": {
          "base_uri": "https://localhost:8080/",
          "height": 34
        },
        "outputId": "048a57e9-57a0-4a85-dd46-beeec561f5cd"
      },
      "source": [
        "print(numero_qualquer)"
      ],
      "execution_count": null,
      "outputs": [
        {
          "output_type": "stream",
          "text": [
            "50\n"
          ],
          "name": "stdout"
        }
      ]
    },
    {
      "cell_type": "code",
      "metadata": {
        "id": "nEQOrQ_-0LtA",
        "colab": {
          "base_uri": "https://localhost:8080/",
          "height": 34
        },
        "outputId": "0786b039-bf66-4b28-d131-182c637d30b1"
      },
      "source": [
        "numero_qualquer + 1"
      ],
      "execution_count": null,
      "outputs": [
        {
          "output_type": "execute_result",
          "data": {
            "text/plain": [
              "51"
            ]
          },
          "metadata": {
            "tags": []
          },
          "execution_count": 9
        }
      ]
    },
    {
      "cell_type": "markdown",
      "metadata": {
        "id": "iGh9ea643lbj"
      },
      "source": [
        "##Tipos de Variáveis\n",
        "\n",
        "As variáveis são de diferentes tipos, no Python temos\n",
        "\n"
      ]
    },
    {
      "cell_type": "markdown",
      "metadata": {
        "id": "wmA7q5nEOEgC"
      },
      "source": [
        "### int\n",
        "Esse tipo de variável representa os números inteiros.\n",
        "\n",
        "OBS: A função que retorna o tipo da variável é a type"
      ]
    },
    {
      "cell_type": "code",
      "metadata": {
        "id": "pEn8yJjj9rIN",
        "colab": {
          "base_uri": "https://localhost:8080/",
          "height": 34
        },
        "outputId": "d1a9d291-fb91-4a2f-af4a-0fc67f63cdc2"
      },
      "source": [
        "type(2)"
      ],
      "execution_count": null,
      "outputs": [
        {
          "output_type": "execute_result",
          "data": {
            "text/plain": [
              "int"
            ]
          },
          "metadata": {
            "tags": []
          },
          "execution_count": 29
        }
      ]
    },
    {
      "cell_type": "markdown",
      "metadata": {
        "id": "ltYJ6ZiHOTQo"
      },
      "source": [
        "### float\n",
        "Esse tipo de variável representa os números decimais"
      ]
    },
    {
      "cell_type": "code",
      "metadata": {
        "id": "ErBvnMim9rdp",
        "colab": {
          "base_uri": "https://localhost:8080/",
          "height": 34
        },
        "outputId": "d06b084d-c69d-450d-cce0-eb4600b5a8ff"
      },
      "source": [
        "type(2.0)"
      ],
      "execution_count": null,
      "outputs": [
        {
          "output_type": "execute_result",
          "data": {
            "text/plain": [
              "float"
            ]
          },
          "metadata": {
            "tags": []
          },
          "execution_count": 30
        }
      ]
    },
    {
      "cell_type": "markdown",
      "metadata": {
        "id": "oW-wUqozOgie"
      },
      "source": [
        "### bool\n",
        "Variáveis booleanas representam verdadeiro e falso, são elas: True e False, ambas com primeira letra maiúscula."
      ]
    },
    {
      "cell_type": "code",
      "metadata": {
        "id": "xFpS0vK_-f4n",
        "colab": {
          "base_uri": "https://localhost:8080/",
          "height": 34
        },
        "outputId": "e9590fbd-65f0-434e-d090-deafe2ce2d1a"
      },
      "source": [
        "type(False)"
      ],
      "execution_count": null,
      "outputs": [
        {
          "output_type": "execute_result",
          "data": {
            "text/plain": [
              "bool"
            ]
          },
          "metadata": {
            "tags": []
          },
          "execution_count": 32
        }
      ]
    },
    {
      "cell_type": "code",
      "metadata": {
        "id": "A8hmw803-iU2",
        "colab": {
          "base_uri": "https://localhost:8080/",
          "height": 34
        },
        "outputId": "cd97ceec-5015-422d-db4e-0fc2754502af"
      },
      "source": [
        "type(True)"
      ],
      "execution_count": null,
      "outputs": [
        {
          "output_type": "execute_result",
          "data": {
            "text/plain": [
              "bool"
            ]
          },
          "metadata": {
            "tags": []
          },
          "execution_count": 33
        }
      ]
    },
    {
      "cell_type": "code",
      "metadata": {
        "id": "9in7D76H-pVj",
        "colab": {
          "base_uri": "https://localhost:8080/",
          "height": 34
        },
        "outputId": "56a48d9e-1ead-49e9-f314-60af97661bfe"
      },
      "source": [
        "type(False)"
      ],
      "execution_count": null,
      "outputs": [
        {
          "output_type": "execute_result",
          "data": {
            "text/plain": [
              "bool"
            ]
          },
          "metadata": {
            "tags": []
          },
          "execution_count": 34
        }
      ]
    },
    {
      "cell_type": "markdown",
      "metadata": {
        "id": "H4zlf8wQWSp3"
      },
      "source": [
        "### Lista\n",
        "\n",
        "Uma lista é uma coleção de itens, armazenados em uma única variável."
      ]
    },
    {
      "cell_type": "code",
      "metadata": {
        "id": "gigKfJoHXN_2",
        "colab": {
          "base_uri": "https://localhost:8080/",
          "height": 34
        },
        "outputId": "6f8e8781-766f-4862-b1ad-a3bd40639f3b"
      },
      "source": [
        "lista_teste=[1,2,3,4,5]\n",
        "type(lista_teste)"
      ],
      "execution_count": null,
      "outputs": [
        {
          "output_type": "execute_result",
          "data": {
            "text/plain": [
              "list"
            ]
          },
          "metadata": {
            "tags": []
          },
          "execution_count": 7
        }
      ]
    },
    {
      "cell_type": "markdown",
      "metadata": {
        "id": "px1CgAM2WXan"
      },
      "source": [
        "### Tuplas\n",
        "\n",
        "Definir tuplas é idêntico a definir listas, porém são elementos em ordem, separados por vírgulas e cercados por parênteses, ao invés de colchetes. A diferença entre tuplas e listas, porém, é que tuplas não podem ser modificadas."
      ]
    },
    {
      "cell_type": "code",
      "metadata": {
        "id": "m5UaXZ1fXJl8",
        "colab": {
          "base_uri": "https://localhost:8080/",
          "height": 34
        },
        "outputId": "c3423466-9a0a-47e9-851e-69e57a412eba"
      },
      "source": [
        "invariavel = (1, \"2\", True, [1,2,3], \"fortaleza\")\n",
        "type(invariavel)"
      ],
      "execution_count": null,
      "outputs": [
        {
          "output_type": "execute_result",
          "data": {
            "text/plain": [
              "tuple"
            ]
          },
          "metadata": {
            "tags": []
          },
          "execution_count": 6
        }
      ]
    },
    {
      "cell_type": "markdown",
      "metadata": {
        "id": "CATtCHSzWaEl"
      },
      "source": [
        "### Dicionários\n",
        "\n",
        "Dicionários são estruturas de armazenamento de informação utilizado em grande parte quando a informação armazenada é associada a um outro tipo de informação. \n"
      ]
    },
    {
      "cell_type": "code",
      "metadata": {
        "id": "f8_2gydmXmAX",
        "colab": {
          "base_uri": "https://localhost:8080/",
          "height": 34
        },
        "outputId": "01be55c2-3d9c-45ba-d424-a25e0edbf5cb"
      },
      "source": [
        "dicionario_exemplo = {\"nome\": \"João\", \"idade\": 18, \"cidade\": \"Barbalha\"}\n",
        "type(dicionario_exemplo)\n"
      ],
      "execution_count": null,
      "outputs": [
        {
          "output_type": "execute_result",
          "data": {
            "text/plain": [
              "dict"
            ]
          },
          "metadata": {
            "tags": []
          },
          "execution_count": 12
        }
      ]
    },
    {
      "cell_type": "markdown",
      "metadata": {
        "id": "nrvfUwPB2rcS"
      },
      "source": [
        "## Input\n",
        "Uma função importante no Python é a de pedir para o usuário inserir os dados, escrevemos ela de um jeito parecido com o print, mas ao invés de somente exibir o que está entre aspas, ele exibe e dá o espaço para que o usuário digite algo:\n"
      ]
    },
    {
      "cell_type": "code",
      "metadata": {
        "id": "F68EQx3W0mxf",
        "colab": {
          "base_uri": "https://localhost:8080/",
          "height": 52
        },
        "outputId": "b0b29fb5-9120-4a5b-8d52-85ab1ab52c41"
      },
      "source": [
        "input(\"Coloque seu nome aqui:\")"
      ],
      "execution_count": null,
      "outputs": [
        {
          "output_type": "stream",
          "text": [
            "Coloque seu nome aqui:Candido\n"
          ],
          "name": "stdout"
        },
        {
          "output_type": "execute_result",
          "data": {
            "application/vnd.google.colaboratory.intrinsic+json": {
              "type": "string"
            },
            "text/plain": [
              "'Candido'"
            ]
          },
          "metadata": {
            "tags": []
          },
          "execution_count": 3
        }
      ]
    },
    {
      "cell_type": "markdown",
      "metadata": {
        "id": "D4EBLmpbPvxT"
      },
      "source": [
        "Para que o que foi digitado fique guardado em algum lugar, é interessante que salvemos em alguma variável"
      ]
    },
    {
      "cell_type": "code",
      "metadata": {
        "id": "EOBXtTxT1b0t"
      },
      "source": [
        "nome=input(\"Bote o nome:\")"
      ],
      "execution_count": null,
      "outputs": []
    },
    {
      "cell_type": "code",
      "metadata": {
        "id": "iWjFYw8S2Vw-"
      },
      "source": [
        "nome"
      ],
      "execution_count": null,
      "outputs": []
    },
    {
      "cell_type": "markdown",
      "metadata": {
        "id": "FVGh5ZbK3K4k"
      },
      "source": [
        "Quando a gente pega algo do usuário, isto sempre é uma string, se quisermos usar como outro tipo, é preciso converter\n"
      ]
    },
    {
      "cell_type": "code",
      "metadata": {
        "id": "nvaD0cfP2aAT",
        "colab": {
          "base_uri": "https://localhost:8080/",
          "height": 51
        },
        "outputId": "2d71044e-32c9-4ec3-e867-1f633e2ea3fb"
      },
      "source": [
        "a=input(\"Coloque seu nome\\n\")"
      ],
      "execution_count": null,
      "outputs": [
        {
          "output_type": "stream",
          "text": [
            "Coloque seu nome\n",
            "Candido\n"
          ],
          "name": "stdout"
        }
      ]
    },
    {
      "cell_type": "code",
      "metadata": {
        "id": "4j50Er_05P7t",
        "colab": {
          "base_uri": "https://localhost:8080/",
          "height": 34
        },
        "outputId": "6fdb2b5a-df4c-4942-8d59-2e54f31a92fa"
      },
      "source": [
        "type(a)"
      ],
      "execution_count": null,
      "outputs": [
        {
          "output_type": "execute_result",
          "data": {
            "text/plain": [
              "str"
            ]
          },
          "metadata": {
            "tags": []
          },
          "execution_count": 19
        }
      ]
    },
    {
      "cell_type": "code",
      "metadata": {
        "id": "wgNKSyfy5g3c"
      },
      "source": [
        "int(a) #O comando para converter é este: nome do tipo que quero converter, e o valor entre parentêses. Note que neste caso não podemos converter palavras para int"
      ],
      "execution_count": null,
      "outputs": []
    },
    {
      "cell_type": "code",
      "metadata": {
        "id": "RWhVO0RZ7Fvu"
      },
      "source": [
        "a=\"2\""
      ],
      "execution_count": null,
      "outputs": []
    },
    {
      "cell_type": "code",
      "metadata": {
        "id": "OFc1TM917Kco",
        "colab": {
          "base_uri": "https://localhost:8080/",
          "height": 34
        },
        "outputId": "c113887d-856a-4290-cba6-e95faee9a690"
      },
      "source": [
        "int(a) #Nesse caso aqui sim, converteu a string \"2\", para um número inteiro"
      ],
      "execution_count": null,
      "outputs": [
        {
          "output_type": "execute_result",
          "data": {
            "text/plain": [
              "2"
            ]
          },
          "metadata": {
            "tags": []
          },
          "execution_count": 27
        }
      ]
    },
    {
      "cell_type": "markdown",
      "metadata": {
        "id": "lT_aYvci7LaS"
      },
      "source": [
        "## Exercício 1 - Calculadora de segundos"
      ]
    },
    {
      "cell_type": "code",
      "metadata": {
        "id": "Xke4oy8X9PRx",
        "colab": {
          "base_uri": "https://localhost:8080/",
          "height": 187
        },
        "outputId": "63c26382-e9a7-4da7-fe15-3ce53a90af9d"
      },
      "source": [
        "horas=int(input(\"Digite a quantidade de horas:\\n\"))\n",
        "minutos=int(input(\"Digite a quantidade de minutos:\\n\"))\n",
        "segundos=int(input(\"Digite a quantidade de segundos:\\n\"))\n",
        "segundos_totais=horas*60*60+minutos*60+segundos\n",
        "print(\"O total desse tempo em segundos é de:\",segundos_totais,\"segundos\")\n",
        "print(f\"O total desse tempo em segundos é de \\n {segundos_totais} \\n segundos\")"
      ],
      "execution_count": null,
      "outputs": [
        {
          "output_type": "stream",
          "text": [
            "Digite a quantidade de horas:\n",
            "10\n",
            "Digite a quantidade de minutos:\n",
            "10\n",
            "Digite a quantidade de segundos:\n",
            "10\n",
            "O total desse tempo em segundos é de: 36610 segundos\n",
            "O total desse tempo em segundos é de \n",
            " 36610.000000 \n",
            " segundos\n"
          ],
          "name": "stdout"
        }
      ]
    },
    {
      "cell_type": "markdown",
      "metadata": {
        "id": "GF8H8NwBYy1h"
      },
      "source": [
        "# **Bibliotecas**\n",
        "Coleção de subprogramas utilizados no desenvolvimento de outros programas.\n"
      ]
    },
    {
      "cell_type": "markdown",
      "metadata": {
        "id": "BYgfGHJPZH9K"
      },
      "source": [
        "**math — Funções matemáticas**"
      ]
    },
    {
      "cell_type": "code",
      "metadata": {
        "id": "tjHCLMUezYva"
      },
      "source": [
        "import math"
      ],
      "execution_count": null,
      "outputs": []
    },
    {
      "cell_type": "markdown",
      "metadata": {
        "id": "wjtZu5eLwxFy"
      },
      "source": [
        "*   abs(x), que retorna o valor absoluto de x:"
      ]
    },
    {
      "cell_type": "code",
      "metadata": {
        "id": "qoxP7Aycxz5t",
        "colab": {
          "base_uri": "https://localhost:8080/",
          "height": 34
        },
        "outputId": "801a5a5b-adf4-445e-c122-55e7aec6198f"
      },
      "source": [
        "print(abs(-0.1))"
      ],
      "execution_count": null,
      "outputs": [
        {
          "output_type": "stream",
          "text": [
            "0.1\n"
          ],
          "name": "stdout"
        }
      ]
    },
    {
      "cell_type": "markdown",
      "metadata": {
        "id": "LnNeRRLWx4Fv"
      },
      "source": [
        "*   ceil(x), que retorna o valor inteiro de x, arredondado para cima:"
      ]
    },
    {
      "cell_type": "code",
      "metadata": {
        "id": "cqky0ND-yFpW",
        "colab": {
          "base_uri": "https://localhost:8080/",
          "height": 34
        },
        "outputId": "6462ca71-456e-4a15-ae1c-f78b5751d614"
      },
      "source": [
        "print(math.ceil(3.3))"
      ],
      "execution_count": null,
      "outputs": [
        {
          "output_type": "stream",
          "text": [
            "4\n"
          ],
          "name": "stdout"
        }
      ]
    },
    {
      "cell_type": "markdown",
      "metadata": {
        "id": "Oass0MvvzcS7"
      },
      "source": [
        "*   floor(x), que retorna o valor inteiro de x, arredondado para baixo:"
      ]
    },
    {
      "cell_type": "code",
      "metadata": {
        "id": "C5BhLTP0zjFI",
        "colab": {
          "base_uri": "https://localhost:8080/",
          "height": 34
        },
        "outputId": "bb98a82f-8bc0-4588-8376-44e095a72803"
      },
      "source": [
        "print(math.floor(3.3))"
      ],
      "execution_count": null,
      "outputs": [
        {
          "output_type": "stream",
          "text": [
            "3\n"
          ],
          "name": "stdout"
        }
      ]
    },
    {
      "cell_type": "markdown",
      "metadata": {
        "id": "c1NnH6h50R8Z"
      },
      "source": [
        "*   pow(x,y), que retorna x elevado a y (também pode ser expresso nativamente pelo Python atráves de x**y):"
      ]
    },
    {
      "cell_type": "code",
      "metadata": {
        "id": "Hwo2ACN104tW",
        "colab": {
          "base_uri": "https://localhost:8080/",
          "height": 51
        },
        "outputId": "4de64677-970c-4ce2-80c8-b3997cb44892"
      },
      "source": [
        "print(math.pow(3,3))\n",
        "print(3**3)"
      ],
      "execution_count": null,
      "outputs": [
        {
          "output_type": "stream",
          "text": [
            "27.0\n",
            "27\n"
          ],
          "name": "stdout"
        }
      ]
    },
    {
      "cell_type": "code",
      "metadata": {
        "id": "YrPdR2omLU4x"
      },
      "source": [
        "int(input(\"Entre com o primeiro número: \")) #Explicar input e fazer os outros exemplos utilizando\n"
      ],
      "execution_count": null,
      "outputs": []
    },
    {
      "cell_type": "markdown",
      "metadata": {
        "id": "oAERwYSS13G-"
      },
      "source": [
        "*   sqrt(x), retorna a raiz de x:"
      ]
    },
    {
      "cell_type": "code",
      "metadata": {
        "id": "v-CN2mu_190S",
        "colab": {
          "base_uri": "https://localhost:8080/",
          "height": 34
        },
        "outputId": "77c98b10-e19e-46e5-fbb5-3208b285d137"
      },
      "source": [
        "print(math.sqrt(4))"
      ],
      "execution_count": null,
      "outputs": [
        {
          "output_type": "stream",
          "text": [
            "2.0\n"
          ],
          "name": "stdout"
        }
      ]
    },
    {
      "cell_type": "code",
      "metadata": {
        "id": "00nRPqik-C9P",
        "colab": {
          "base_uri": "https://localhost:8080/",
          "height": 34
        },
        "outputId": "e6e0867e-6dfa-453a-bb54-90bb988c0a6e"
      },
      "source": [
        "from math import * #Fazemos isso para não precisar digitar sempre o \"math.\"\n",
        "x = 16\n",
        "y = sqrt(x)\n",
        "print (y)"
      ],
      "execution_count": null,
      "outputs": [
        {
          "output_type": "stream",
          "text": [
            "4.0\n"
          ],
          "name": "stdout"
        }
      ]
    },
    {
      "cell_type": "markdown",
      "metadata": {
        "id": "jVMOBKPZMxNj"
      },
      "source": [
        "*   cos, sin, tan, acos, asin, atan são funções trigonométricas"
      ]
    },
    {
      "cell_type": "code",
      "metadata": {
        "id": "OY5s1-PTMxNo",
        "colab": {
          "base_uri": "https://localhost:8080/",
          "height": 187
        },
        "outputId": "8572c65e-fc09-48f2-e044-9067d26d5bf3"
      },
      "source": [
        "import math\n",
        "print(math.cos(30))\n",
        "print(math.sin(30))\n",
        "print(math.tan(30))\n",
        "print(math.acos(0.1)) # Cuidado com o domínio da função\n",
        "print(math.asin(0.1))\n",
        "print(math.atan(0.1))\n",
        "\n",
        "x=(math.cos(30))\n",
        "y=x\n",
        "\n",
        "print(math.degrees(x)) #Função para converter\n",
        "print(math.radians(y))\n",
        "\n",
        "print (math.pi) #Valores fixos, pi e euler\n",
        "print (math.e)"
      ],
      "execution_count": null,
      "outputs": [
        {
          "output_type": "stream",
          "text": [
            "0.15425144988758405\n",
            "-0.9880316240928618\n",
            "-6.405331196646276\n",
            "1.4706289056333368\n",
            "0.1001674211615598\n",
            "0.09966865249116204\n",
            "8.837957062332283\n",
            "0.002692195676513379\n",
            "3.141592653589793\n",
            "2.718281828459045\n"
          ],
          "name": "stdout"
        }
      ]
    },
    {
      "cell_type": "markdown",
      "metadata": {
        "id": "eVigCZ4sQs9n"
      },
      "source": [
        "A biblioteca math tem muitas outras funções, como logaritmo, exponencial, função hiperbolica, dentre outras. O importante é você aprender a estrutura, a funções mais expecificas você pesquisa pontualmente."
      ]
    },
    {
      "cell_type": "markdown",
      "metadata": {
        "id": "ptuPwJ4pZZlB"
      },
      "source": [
        "**random — Gerar números pseudoaleatórios**"
      ]
    },
    {
      "cell_type": "code",
      "metadata": {
        "id": "4tWbJ69XglpI",
        "colab": {
          "base_uri": "https://localhost:8080/",
          "height": 34
        },
        "outputId": "9885cc79-26b8-489f-dbf2-0c27d4fc2417"
      },
      "source": [
        "import random #resulta em número entre 0 e 1\n",
        "random.random\n",
        "print (a)"
      ],
      "execution_count": null,
      "outputs": [
        {
          "output_type": "stream",
          "text": [
            "0.24134999431654636\n"
          ],
          "name": "stdout"
        }
      ]
    },
    {
      "cell_type": "code",
      "metadata": {
        "id": "F1Vlfj8w1Rfr",
        "colab": {
          "base_uri": "https://localhost:8080/",
          "height": 34
        },
        "outputId": "d2ec1640-a71b-4327-af1c-49eeca22ba8a"
      },
      "source": [
        "from random import * #faça isso para não precisar digitar \".random\"\n",
        "a = random ()\n",
        "print (a)"
      ],
      "execution_count": null,
      "outputs": [
        {
          "output_type": "stream",
          "text": [
            "0.03569545427975307\n"
          ],
          "name": "stdout"
        }
      ]
    },
    {
      "cell_type": "code",
      "metadata": {
        "id": "ecL4s-d2Zqhx",
        "colab": {
          "base_uri": "https://localhost:8080/",
          "height": 34
        },
        "outputId": "518dd22e-f900-40f4-e4a3-603035ba1f50"
      },
      "source": [
        "import random\n",
        "a = 1\n",
        "b = 10\n",
        "x = random.uniform(a, b)\n",
        "print (x)\n",
        "\n"
      ],
      "execution_count": null,
      "outputs": [
        {
          "output_type": "stream",
          "text": [
            "7.784893277856377\n"
          ],
          "name": "stdout"
        }
      ]
    },
    {
      "cell_type": "code",
      "metadata": {
        "id": "danHYQ6wdbi_",
        "colab": {
          "base_uri": "https://localhost:8080/",
          "height": 34
        },
        "outputId": "a1d746d8-3b44-46e3-dda6-278dd3fb647a"
      },
      "source": [
        "import random\n",
        "x = random.uniform (5, 10)\n",
        "print (x)\n"
      ],
      "execution_count": null,
      "outputs": [
        {
          "output_type": "stream",
          "text": [
            "8.530910301803798\n"
          ],
          "name": "stdout"
        }
      ]
    },
    {
      "cell_type": "markdown",
      "metadata": {
        "id": "AWkw5EnuWI0Z"
      },
      "source": [
        "# Números Aleatórios Inteiros"
      ]
    },
    {
      "cell_type": "code",
      "metadata": {
        "id": "q_c20vg5tLaK",
        "colab": {
          "base_uri": "https://localhost:8080/"
        },
        "outputId": "959e2e8f-cd1c-48b6-c4cb-149cf9b78d52"
      },
      "source": [
        "import random\n",
        "num = random.randrange(10,11)\n",
        "print (num)"
      ],
      "execution_count": null,
      "outputs": [
        {
          "output_type": "stream",
          "name": "stdout",
          "text": [
            "10\n"
          ]
        }
      ]
    },
    {
      "cell_type": "code",
      "metadata": {
        "id": "hHNCe5kAbvGs",
        "colab": {
          "base_uri": "https://localhost:8080/"
        },
        "outputId": "a0e822b6-78e3-4a49-a57c-23b118e868c5"
      },
      "source": [
        "import random\n",
        "num = random.randint(10,11)\n",
        "print(\"O número aleatório de 0 a 10 gerado foi:\", num)"
      ],
      "execution_count": null,
      "outputs": [
        {
          "output_type": "stream",
          "name": "stdout",
          "text": [
            "O número aleatório de 0 a 10 gerado foi: 10\n"
          ]
        }
      ]
    },
    {
      "cell_type": "code",
      "metadata": {
        "id": "biBlqkhT3grj",
        "colab": {
          "base_uri": "https://localhost:8080/"
        },
        "outputId": "a903fcb5-8b5e-49fe-a040-7ef92de3fe8d"
      },
      "source": [
        "import random\n",
        "\n",
        "cards = ['Gabriel', 'Candido', 'Edgar', 'Lucas']\n",
        "\n",
        "random.shuffle(cards)\n",
        "\n",
        "print(cards)"
      ],
      "execution_count": null,
      "outputs": [
        {
          "output_type": "stream",
          "name": "stdout",
          "text": [
            "['Gabriel', 'Edgar', 'Lucas', 'Candido']\n"
          ]
        }
      ]
    },
    {
      "cell_type": "markdown",
      "metadata": {
        "id": "iRloBPi27v1e"
      },
      "source": [
        "Existem outras diversas bibliotes, para métodos estatísticos, números complexos, que são muito utilizadas na ciência de dados. No entanto não é nosso objetivo hoje explorar essas bibliotecas, são códigos um pouquinho mais avançados."
      ]
    },
    {
      "cell_type": "code",
      "metadata": {
        "id": "mXN0FuwwDPHL"
      },
      "source": [
        ""
      ],
      "execution_count": null,
      "outputs": []
    },
    {
      "cell_type": "markdown",
      "metadata": {
        "id": "LBbNDDCIIdHu"
      },
      "source": [
        "Já vimos várias funções até aqui"
      ]
    },
    {
      "cell_type": "code",
      "metadata": {
        "id": "G3vnk-iiIiJX",
        "colab": {
          "base_uri": "https://localhost:8080/",
          "height": 34
        },
        "outputId": "e0b0d8c4-8c4b-4b1e-c16b-c9869e4a093f"
      },
      "source": [
        "print(\"Alô\")"
      ],
      "execution_count": null,
      "outputs": [
        {
          "output_type": "stream",
          "text": [
            "Alô\n"
          ],
          "name": "stdout"
        }
      ]
    },
    {
      "cell_type": "code",
      "metadata": {
        "id": "8tPwZFOjIkBO",
        "colab": {
          "base_uri": "https://localhost:8080/",
          "height": 34
        },
        "outputId": "1cf74d47-e5d1-48d6-88ed-59195b37cd07"
      },
      "source": [
        "type(23)"
      ],
      "execution_count": null,
      "outputs": [
        {
          "output_type": "execute_result",
          "data": {
            "text/plain": [
              "int"
            ]
          },
          "metadata": {
            "tags": []
          },
          "execution_count": 4
        }
      ]
    },
    {
      "cell_type": "code",
      "metadata": {
        "id": "w1qfCThDIl1_",
        "colab": {
          "base_uri": "https://localhost:8080/",
          "height": 34
        },
        "outputId": "d6c55b30-5007-4387-b5c0-65297205c8b4"
      },
      "source": [
        "import math\n",
        "math.pi"
      ],
      "execution_count": null,
      "outputs": [
        {
          "output_type": "execute_result",
          "data": {
            "text/plain": [
              "3.141592653589793"
            ]
          },
          "metadata": {
            "tags": []
          },
          "execution_count": 8
        }
      ]
    },
    {
      "cell_type": "code",
      "metadata": {
        "id": "tYUT0byhIndO",
        "colab": {
          "base_uri": "https://localhost:8080/",
          "height": 34
        },
        "outputId": "267d58fb-f929-4cb1-888a-98956d082c5c"
      },
      "source": [
        "math.pow(2,3)"
      ],
      "execution_count": null,
      "outputs": [
        {
          "output_type": "execute_result",
          "data": {
            "text/plain": [
              "8.0"
            ]
          },
          "metadata": {
            "tags": []
          },
          "execution_count": 9
        }
      ]
    },
    {
      "cell_type": "code",
      "metadata": {
        "id": "eoC6aizXIvVs",
        "colab": {
          "base_uri": "https://localhost:8080/",
          "height": 34
        },
        "outputId": "bce00a6b-34fe-4b2c-b45c-6ba16ba22687"
      },
      "source": [
        "import random as rd\n",
        "rd.randint(1,9)"
      ],
      "execution_count": null,
      "outputs": [
        {
          "output_type": "execute_result",
          "data": {
            "text/plain": [
              "2"
            ]
          },
          "metadata": {
            "tags": []
          },
          "execution_count": 12
        }
      ]
    },
    {
      "cell_type": "markdown",
      "metadata": {
        "id": "SIUOaOyMS-hh"
      },
      "source": [
        "A gente pode criar nossas próprias funções também, com o que quisermos que ela faça\n"
      ]
    },
    {
      "cell_type": "markdown",
      "metadata": {
        "id": "i8WCsIYhIyIJ"
      },
      "source": [
        "## Funções"
      ]
    },
    {
      "cell_type": "markdown",
      "metadata": {
        "id": "DfXvLZZpI5ZQ"
      },
      "source": [
        "O Python deixa criarmos nossa própria função, isso é um recurso bastante utilizado"
      ]
    },
    {
      "cell_type": "code",
      "metadata": {
        "id": "7RoYVZW9JA0q"
      },
      "source": [
        "def nome_da_função(): #esta é a sintaxe para a criação de função, importante não esquecer os parênteses, nem os dois pontos\n",
        "  print(\"É assim que se cria uma função\") ## aqui é o corpo da função, ele indica o que ela deve fazer."
      ],
      "execution_count": null,
      "outputs": []
    },
    {
      "cell_type": "markdown",
      "metadata": {
        "id": "GYaRuTIATqaT"
      },
      "source": [
        "A função criada acima se chama nome_da_função, e o que ela faz é mostrar a frase \"É assim que se cria uma função\", quando é chamada."
      ]
    },
    {
      "cell_type": "code",
      "metadata": {
        "id": "-jFalBE4JLAZ"
      },
      "source": [
        "nome_da_função() ## é assim que chamamos a função, ou seja, pedimos para ela fazer o que foi feita para fazer"
      ],
      "execution_count": null,
      "outputs": []
    },
    {
      "cell_type": "code",
      "metadata": {
        "id": "SIMltj5RJbwh"
      },
      "source": [
        "def xand_aviao():\n",
        "  print(\"Não é nada disso que você está pensando, é da bicicleta que eu estou falando\")"
      ],
      "execution_count": null,
      "outputs": []
    },
    {
      "cell_type": "code",
      "metadata": {
        "id": "A7f31XEtJgLD"
      },
      "source": [
        "xand_aviao()"
      ],
      "execution_count": null,
      "outputs": []
    },
    {
      "cell_type": "markdown",
      "metadata": {
        "id": "dJA9YX70Ur5G"
      },
      "source": [
        "Perceba que os parêteses na criação estão vazios, isto porque eles não precisam de nenhum valor para serem chamados, mas também podemos pedir que sejam passados alguns \"argumentos\" na função, ou seja, valores que serão usados. "
      ]
    },
    {
      "cell_type": "code",
      "metadata": {
        "id": "dX7lgClkJtNg"
      },
      "source": [
        "def xand_aviao_esperto(veiculo,veiculo2): ## é importante salientar que esses nomes na hora da criação podem ser qualquer um, é só uma base\n",
        "  print(f'É do(a) {veiculo} e da {veiculo2} que estou falando')"
      ],
      "execution_count": null,
      "outputs": []
    },
    {
      "cell_type": "code",
      "metadata": {
        "id": "bmMXPmtGKgCZ",
        "colab": {
          "base_uri": "https://localhost:8080/",
          "height": 34
        },
        "outputId": "506b0b5f-503e-4bc6-a4aa-4b0598a865b7"
      },
      "source": [
        "xand_aviao_esperto(\"carro\",\"moto\") # a gente muda mesmo esses argumentos na hora de chamar"
      ],
      "execution_count": null,
      "outputs": [
        {
          "output_type": "stream",
          "text": [
            "É do(a) carro e da moto que estou falando\n"
          ],
          "name": "stdout"
        }
      ]
    },
    {
      "cell_type": "code",
      "metadata": {
        "id": "Su2DYEHFNBLR"
      },
      "source": [
        "def soma(): #podemos criar funções numéricas também, não somente de exibição de texto\n",
        "  1+1"
      ],
      "execution_count": null,
      "outputs": []
    },
    {
      "cell_type": "markdown",
      "metadata": {
        "id": "qF2KoGE-KiYC"
      },
      "source": [
        "####Funções com Retorno"
      ]
    },
    {
      "cell_type": "markdown",
      "metadata": {
        "id": "KNwfVi-6Vpgl"
      },
      "source": [
        "Perceba que até agora criamos funções que não no devolve valor nenhum, apenas exibem coisas, podemos ver isso olhando o tipo do valor delas"
      ]
    },
    {
      "cell_type": "code",
      "metadata": {
        "id": "aOb1BmXvNEw6",
        "colab": {
          "base_uri": "https://localhost:8080/",
          "height": 34
        },
        "outputId": "18715179-2cff-42ab-a8ef-b51b57edde44"
      },
      "source": [
        "a=soma()\n",
        "type(a)"
      ],
      "execution_count": null,
      "outputs": [
        {
          "output_type": "execute_result",
          "data": {
            "text/plain": [
              "NoneType"
            ]
          },
          "metadata": {
            "tags": []
          },
          "execution_count": 59
        }
      ]
    },
    {
      "cell_type": "markdown",
      "metadata": {
        "id": "mLsD4QyrM02M"
      },
      "source": [
        "Até agora as funções são sem retorno, ou seja, não devolve nenhum valor, por isso são do tipo None.\n",
        "\n",
        "Vamos criar agora funções que nos devolva valores, que é utilizando o comando return\n"
      ]
    },
    {
      "cell_type": "code",
      "metadata": {
        "id": "haMIl5ugNAEu"
      },
      "source": [
        "import math\n",
        "def area(raio):\n",
        "  area=math.pi*raio**2\n",
        "  return area"
      ],
      "execution_count": null,
      "outputs": []
    },
    {
      "cell_type": "code",
      "metadata": {
        "id": "SS0VifblNltY",
        "colab": {
          "base_uri": "https://localhost:8080/",
          "height": 34
        },
        "outputId": "d05b4c5d-bf42-471f-deab-60243ca882cf"
      },
      "source": [
        "area(3)"
      ],
      "execution_count": null,
      "outputs": [
        {
          "output_type": "execute_result",
          "data": {
            "text/plain": [
              "28.274333882308138"
            ]
          },
          "metadata": {
            "tags": []
          },
          "execution_count": 64
        }
      ]
    },
    {
      "cell_type": "code",
      "metadata": {
        "id": "iVhcFXatN3lz"
      },
      "source": [
        "def area():\n",
        "  raio=input(\"Digite o valor do raio da circunferência\")\n",
        "  raio2=int(raio)\n",
        "  area=math.pi*raio2**2\n",
        "  return area"
      ],
      "execution_count": null,
      "outputs": []
    },
    {
      "cell_type": "code",
      "metadata": {
        "id": "sSLGOS65ODRO",
        "colab": {
          "base_uri": "https://localhost:8080/",
          "height": 51
        },
        "outputId": "0b2ccf37-34b0-44aa-de63-b48881ab32b6"
      },
      "source": [
        "area()"
      ],
      "execution_count": null,
      "outputs": [
        {
          "output_type": "stream",
          "text": [
            "Digite o valor do raio da circunferência21\n"
          ],
          "name": "stdout"
        },
        {
          "output_type": "execute_result",
          "data": {
            "text/plain": [
              "1385.4423602330987"
            ]
          },
          "metadata": {
            "tags": []
          },
          "execution_count": 9
        }
      ]
    },
    {
      "cell_type": "code",
      "metadata": {
        "id": "_oGgGS92PWQP"
      },
      "source": [
        "def area2(raio):\n",
        "  print(\"O raio é:\")\n",
        "  return math.pi*raio**2\n",
        "  "
      ],
      "execution_count": null,
      "outputs": []
    },
    {
      "cell_type": "code",
      "metadata": {
        "id": "nDtxvyEMQvg2",
        "colab": {
          "base_uri": "https://localhost:8080/",
          "height": 68
        },
        "outputId": "045541e6-567d-47d6-8b74-de0af754b664"
      },
      "source": [
        "r=float(input(\"Qual o raio?\"))\n",
        "area2(r)"
      ],
      "execution_count": null,
      "outputs": [
        {
          "output_type": "stream",
          "text": [
            "Qual o raio?12\n",
            "O raio é:\n"
          ],
          "name": "stdout"
        },
        {
          "output_type": "execute_result",
          "data": {
            "text/plain": [
              "452.3893421169302"
            ]
          },
          "metadata": {
            "tags": []
          },
          "execution_count": 25
        }
      ]
    },
    {
      "cell_type": "markdown",
      "metadata": {
        "id": "bJN6HTprQ9-Z"
      },
      "source": [
        "## Exercício 2 - Lista (IMC) - Gabarito\n",
        "\n"
      ]
    },
    {
      "cell_type": "code",
      "metadata": {
        "id": "nsmUErFTWNCu"
      },
      "source": [
        "def imc():\n",
        "  peso=float(input(\"Digite seu peso em quilos:\"))\n",
        "  altura=float(input(\"Digite sua altura em metros:\"))\n",
        "  imc=peso/altura**2\n",
        "  print(\"Seu IMC é: \", imc)\n",
        "  return imc\n",
        "\n"
      ],
      "execution_count": null,
      "outputs": []
    },
    {
      "cell_type": "code",
      "metadata": {
        "id": "EV9eT8LriLHd",
        "colab": {
          "base_uri": "https://localhost:8080/",
          "height": 85
        },
        "outputId": "3db3f131-4711-4137-ea1d-80d3db612ab6"
      },
      "source": [
        "imc()"
      ],
      "execution_count": null,
      "outputs": [
        {
          "output_type": "stream",
          "text": [
            "Digite seu peso em quilos:85\n",
            "Digite sua altura em metros:1.7\n",
            "Seu IMC é:  29.411764705882355\n"
          ],
          "name": "stdout"
        },
        {
          "output_type": "execute_result",
          "data": {
            "text/plain": [
              "29.411764705882355"
            ]
          },
          "metadata": {
            "tags": []
          },
          "execution_count": 19
        }
      ]
    },
    {
      "cell_type": "code",
      "metadata": {
        "id": "3vRurz7xiMWO"
      },
      "source": [
        ""
      ],
      "execution_count": null,
      "outputs": []
    },
    {
      "cell_type": "markdown",
      "metadata": {
        "id": "9XiNc0HhIEhq"
      },
      "source": [
        "# Estruturas Condicionais\n"
      ]
    },
    {
      "cell_type": "markdown",
      "metadata": {
        "id": "bf3qSecaNE4d"
      },
      "source": [
        "# If e Else\n",
        "A declaração `if` testa uma condição e executa o bloco de código que ele contém se essa condição for verdadeira, caso contrário, esse bloco de código é ignorado. O bloco de código, para estar interno ao `if`, precisa estar identado após o `if`."
      ]
    },
    {
      "cell_type": "code",
      "metadata": {
        "id": "iif6Jm6kQH9l",
        "colab": {
          "base_uri": "https://localhost:8080/",
          "height": 34
        },
        "outputId": "b055c3fd-196e-4be8-b2e4-7eb97923811f"
      },
      "source": [
        "a = 4\n",
        "if (a == 3):\n",
        "  print(\"Este é o número 3\")\n",
        "\n",
        "print(\"Estou fora do if!\")"
      ],
      "execution_count": null,
      "outputs": [
        {
          "output_type": "stream",
          "text": [
            "Estou fora do if!\n"
          ],
          "name": "stdout"
        }
      ]
    },
    {
      "cell_type": "markdown",
      "metadata": {
        "id": "bR8iVGGWGNdB"
      },
      "source": [
        "Mas e se eu quiser que o código reaja ao fato que a condição é falsa ao invés de só seguir em frente com o resto do código? Para isso, você pode adicionar um `else` no mesmo nível de identação do `if`, adicionando o bloco de código que você deseja que seja executado caso a condição seja falsa identado dentro do else."
      ]
    },
    {
      "cell_type": "code",
      "metadata": {
        "id": "44uo-vqDuin8",
        "colab": {
          "base_uri": "https://localhost:8080/",
          "height": 34
        },
        "outputId": "7ac825d0-4ca0-4382-e938-3411d7451564"
      },
      "source": [
        "idade = 20\n",
        "if idade < 18:\n",
        "    print(\"Você é menor de idade\")\n",
        "else:\n",
        "    print(\"Você é maior de idade\")"
      ],
      "execution_count": null,
      "outputs": [
        {
          "output_type": "stream",
          "text": [
            "Você é maior de idade\n"
          ],
          "name": "stdout"
        }
      ]
    },
    {
      "cell_type": "code",
      "metadata": {
        "id": "E6S65NUwqdv4",
        "colab": {
          "base_uri": "https://localhost:8080/",
          "height": 68
        },
        "outputId": "8d2af526-e816-45d4-9b0b-b541573374bc"
      },
      "source": [
        "login = \"gabriel\" #FAZER ASSIM PRIMEIRO\n",
        "senha = 12345\n",
        "\n",
        "login = input(\"Digite o login:\") #DEPOIS FAZER ASSIM\n",
        "senha = int (input(\"Digite a senha:\"))\n",
        "\n",
        "if (login == \"gabriel\" and senha == 12345):\n",
        "  print(\"Login Aprovado\")\n",
        "else:\n",
        "  print(\"Login ou Senha Errados\")"
      ],
      "execution_count": null,
      "outputs": [
        {
          "output_type": "stream",
          "text": [
            "Digite o login:asdiasjd\n",
            "Digite a senha:12345\n",
            "Login ou Senha Errados\n"
          ],
          "name": "stdout"
        }
      ]
    },
    {
      "cell_type": "code",
      "metadata": {
        "id": "7YPr4KyG0DP7"
      },
      "source": [
        "a = 20\n",
        "b = 22\n",
        "if (a == b):\n",
        "  print(\"números iguais\")\n",
        "else:\n",
        "  print(\"números diferentes\")"
      ],
      "execution_count": null,
      "outputs": []
    },
    {
      "cell_type": "markdown",
      "metadata": {
        "id": "BWUyVrVsTtaf"
      },
      "source": [
        "Par ou Impar\n"
      ]
    },
    {
      "cell_type": "code",
      "metadata": {
        "id": "LQnU4tJ6Cr6b"
      },
      "source": [
        "print(\"Programa para descobrir se um número é par ou impar\")\n",
        "num = int (input(\"Digite o número:\"))\n",
        "if ((num%2)==0):\n",
        "  print(\"O número é par\")\n",
        "else:\n",
        "  print(\"O número impar\")"
      ],
      "execution_count": null,
      "outputs": []
    },
    {
      "cell_type": "markdown",
      "metadata": {
        "id": "tubHUBjIVBHD"
      },
      "source": [
        "# Elif - Exemplos anteriores mais completos\n",
        "Se você deseja comparar várias condições uma atrás a outra, você pode criar uma sequência de condições a serem testadas iniciando com um `if`, seguido por vários `elif`, e opcionalmente terminando com um `else`, que só será executado se nenhuma das condições anteriores for verdade. O bloco executado será o primeiro cuja condição seja verdadeira."
      ]
    },
    {
      "cell_type": "code",
      "metadata": {
        "id": "_cmFLkHrVdX6",
        "colab": {
          "base_uri": "https://localhost:8080/",
          "height": 68
        },
        "outputId": "fa268843-b31a-41c6-9205-f756c6bb75bd"
      },
      "source": [
        "n1 = int(input(\"Digite o primeiro numero: \"))\n",
        "n2 = int(input(\"Digite o segundo numero: \"))\n",
        "\n",
        "if (n1 > n2):\n",
        "  print(\"O primeiro, é maior\", n1)\n",
        "elif (n1 == n2):\n",
        "  print(\"Os números são iguais\")\n",
        "else:\n",
        "  print(\"O segundo, é maior\", n2)\n"
      ],
      "execution_count": null,
      "outputs": [
        {
          "output_type": "stream",
          "text": [
            "Digite o primeiro numero: 6\n",
            "Digite o segundo numero: 1\n",
            "O primeiro, é maior 6\n"
          ],
          "name": "stdout"
        }
      ]
    },
    {
      "cell_type": "code",
      "metadata": {
        "id": "WCE4fP-q6Fm3",
        "colab": {
          "base_uri": "https://localhost:8080/",
          "height": 68
        },
        "outputId": "690f60d6-3105-4fd7-8c91-2ac7f71594e3"
      },
      "source": [
        "usuario = input(\"Digite o login:\")\n",
        "senha = int (input(\"Digite a senha:\"))\n",
        "\n",
        "if (login == \"gabriel\" and senha == 12345):\n",
        "  print(\"Login Aprovado\")\n",
        "elif (usuario != \"gabriel\"):\n",
        "  print(\"Usuario Errado\")\n",
        "else:\n",
        "  print(\"Senha Errada\")"
      ],
      "execution_count": null,
      "outputs": [
        {
          "output_type": "stream",
          "text": [
            "Digite o login:gabriel\n",
            "Digite a senha:12345\n",
            "Senha Errada\n"
          ],
          "name": "stdout"
        }
      ]
    },
    {
      "cell_type": "code",
      "metadata": {
        "id": "b0OjD5WQAGJN",
        "colab": {
          "base_uri": "https://localhost:8080/",
          "height": 51
        },
        "outputId": "9b6a0377-81c7-49b7-f552-0c03ea58a0ac"
      },
      "source": [
        "num = int(input(\"Digite um numero:\"))\n",
        "\n",
        "if (num > 0):\n",
        "    print(\"Positivo\")\n",
        "elif (num == 0):\n",
        "    print(\"Nem positivo nem negativo, é 0\")\n",
        "else:\n",
        "    print(\"Negativo\")"
      ],
      "execution_count": null,
      "outputs": [
        {
          "output_type": "stream",
          "text": [
            "Digite um numero:0\n",
            "Nem positivo nem negativo, é 0\n"
          ],
          "name": "stdout"
        }
      ]
    },
    {
      "cell_type": "markdown",
      "metadata": {
        "id": "3f088nKXbEWe"
      },
      "source": [
        "# EXERCICÍO 1\n",
        "Elabore um programa em Python que receba 3 notas de um estudante, e\n",
        "calcule a média. A partir da média calculada, o programa deve informar\n",
        "ao usuário as seguintes informações APROVADO, REPROVADO, ou AVALIAÇÃO\n",
        "FINAL (AF), segundo os seguintes critérios:\n",
        "\n",
        "- Se Média >= 7, estudante APROVADO\n",
        "- Se Média >= 4 e <= 7, estudante vai para AF\n",
        "- Média < 4, estudante REPROVADO\n",
        "\n",
        "RESOLUÇÃO ABAIXO:"
      ]
    },
    {
      "cell_type": "code",
      "metadata": {
        "id": "TSSOX8i_O0XT"
      },
      "source": [
        "print(\"SISTEMA DE NOTAS DA UFC\")\n",
        "n1 = int (input(\"Digite a nota 1:\"))\n",
        "n2 = int (input(\"Digite a nota 2:\"))\n",
        "n3 = int (input(\"Digite a nota 3:\"))\n",
        "med = (n1+n2+n3)/3\n",
        "print(\"A média é:\", med)\n",
        "if (med>=7):\n",
        "  print(\"APROVADO\")\n",
        "elif (med>=4 and med<7):\n",
        "  print(\"AF\")\n",
        "elif (med<4):\n",
        "  print(\"REPROVADO\")"
      ],
      "execution_count": null,
      "outputs": []
    },
    {
      "cell_type": "markdown",
      "metadata": {
        "id": "LsXQ__bNHr4Z"
      },
      "source": [
        "#   \n"
      ]
    },
    {
      "cell_type": "markdown",
      "metadata": {
        "id": "LJsEF6xopujP"
      },
      "source": [
        "# COMANDOS DE REPETIÇÃO    "
      ]
    },
    {
      "cell_type": "markdown",
      "metadata": {
        "id": "LbcZWcvNXC-g"
      },
      "source": [
        "# While\n",
        "Esse comando repete linhas de código até que uma condição seja cumprida. \"Repita enquanto\""
      ]
    },
    {
      "cell_type": "code",
      "metadata": {
        "id": "cNoXzsM73h_0",
        "colab": {
          "base_uri": "https://localhost:8080/",
          "height": 187
        },
        "outputId": "e1f44e7d-3639-4ebd-9289-4b127cff2806"
      },
      "source": [
        "a = 1\n",
        "while (a <= 10):\n",
        "  print(\"Valor elemento\", a)\n",
        "  a = a + 1"
      ],
      "execution_count": null,
      "outputs": [
        {
          "output_type": "stream",
          "text": [
            "Valor elemento 1\n",
            "Valor elemento 2\n",
            "Valor elemento 3\n",
            "Valor elemento 4\n",
            "Valor elemento 5\n",
            "Valor elemento 6\n",
            "Valor elemento 7\n",
            "Valor elemento 8\n",
            "Valor elemento 9\n",
            "Valor elemento 10\n"
          ],
          "name": "stdout"
        }
      ]
    },
    {
      "cell_type": "markdown",
      "metadata": {
        "id": "USN2OebOh69I"
      },
      "source": [
        "Condição de parada ou ponto de parada"
      ]
    },
    {
      "cell_type": "code",
      "metadata": {
        "id": "1Mo-scYwh6EK",
        "colab": {
          "base_uri": "https://localhost:8080/",
          "height": 85
        },
        "outputId": "bff164e9-5494-4946-c309-db92dde523f3"
      },
      "source": [
        "n=1\n",
        "while (n != 0):\n",
        "  n = int(input(\"Digite o número: \"))\n",
        "print(\"FIM\")"
      ],
      "execution_count": null,
      "outputs": [
        {
          "output_type": "stream",
          "text": [
            "Digite o número: 3\n",
            "Digite o número: 5\n",
            "Digite o número: 0\n",
            "FIM\n"
          ],
          "name": "stdout"
        }
      ]
    },
    {
      "cell_type": "code",
      "metadata": {
        "id": "Z1fnE0_UiwBm",
        "colab": {
          "base_uri": "https://localhost:8080/",
          "height": 136
        },
        "outputId": "6f78f027-9090-4b24-fa14-27d47fc29b80"
      },
      "source": [
        "r = \"S\"\n",
        "while (r == \"S\"):\n",
        "  n = int(input(\"Digite o número: \"))\n",
        "  r = input(\"Quer continuar: [S/N] \")\n",
        "print(\"FIM\")"
      ],
      "execution_count": null,
      "outputs": [
        {
          "output_type": "stream",
          "text": [
            "Digite o número: 4\n",
            "Quer continuar: [S/N] S\n",
            "Digite o número: 6\n",
            "Quer continuar: [S/N] S\n",
            "Digite o número: 2\n",
            "Quer continuar: [S/N] N\n",
            "FIM\n"
          ],
          "name": "stdout"
        }
      ]
    },
    {
      "cell_type": "code",
      "metadata": {
        "id": "JsKp1-vMjtLK",
        "colab": {
          "base_uri": "https://localhost:8080/",
          "height": 85
        },
        "outputId": "eb528798-b356-4942-8c4b-a44fd2ffde20"
      },
      "source": [
        "a = 1\n",
        "quant = int(input(\"Digite a quantidade: \"))\n",
        "aux = 1\n",
        "m = 1\n",
        "while (a <= quant):\n",
        "  aux = int(input(\"Digite o número: \"))\n",
        "  a = a + 1\n",
        "  m = aux * m\n",
        "print(\"A multiplicação do termos é: \", m)"
      ],
      "execution_count": null,
      "outputs": [
        {
          "output_type": "stream",
          "text": [
            "Digite a quantidade: 2\n",
            "Digite o número: 6\n",
            "Digite o número: 2\n",
            "A multiplicação do termos é:  12\n"
          ],
          "name": "stdout"
        }
      ]
    },
    {
      "cell_type": "markdown",
      "metadata": {
        "id": "FcZQC6w_34cS"
      },
      "source": [
        "# Loop Infinito\n",
        "Cuidado com o uso do `while` para evitar criar loops infinitos. Isso fará com o que o código executado nunca pare. Se isso ocorrer no Google Colab, aperte o botão de pare para parar a execução da célula. Se você estiver executando o seu próprio código no Jupyter Notebook, selecione a célula e aperte no botão de parar."
      ]
    },
    {
      "cell_type": "code",
      "metadata": {
        "id": "BkpH4oSt4EIV"
      },
      "source": [
        "a = 1\n",
        "\n",
        "while (a < 10):\n",
        "  print(\"Valor de a: \", a)"
      ],
      "execution_count": null,
      "outputs": []
    },
    {
      "cell_type": "markdown",
      "metadata": {
        "id": "uObvAydzgubY"
      },
      "source": [
        "Exemplo - Calcular Média de maneira mais automática."
      ]
    },
    {
      "cell_type": "code",
      "metadata": {
        "id": "Q9ATMdJ7CcSX",
        "colab": {
          "base_uri": "https://localhost:8080/",
          "height": 153
        },
        "outputId": "ed0462dc-43c6-4c20-8fca-f523769a48b8"
      },
      "source": [
        "quant = int (input(\"Digite a quantidade de termos: \"))\n",
        "cont = 0\n",
        "soma = 0\n",
        "aux = 0\n",
        "while (cont < quant):\n",
        "  cont = cont + 1\n",
        "  aux = int (input(\"Digite o número: \"))\n",
        "  soma = aux + soma\n",
        "\n",
        "med = (soma/cont)\n",
        "print(\"Soma: \", soma)\n",
        "print(\"Contador:\", cont)\n",
        "print(\"Média: \", med)"
      ],
      "execution_count": null,
      "outputs": [
        {
          "output_type": "stream",
          "text": [
            "Digite a quantidade de termos: 4\n",
            "Digite o número: 10\n",
            "Digite o número: 2\n",
            "Digite o número: 10\n",
            "Digite o número: 2\n",
            "Soma:  24\n",
            "Contador: 4\n",
            "Média:  6.0\n"
          ],
          "name": "stdout"
        }
      ]
    },
    {
      "cell_type": "markdown",
      "metadata": {
        "id": "PjVLee0Ce4mH"
      },
      "source": [
        " #    "
      ]
    },
    {
      "cell_type": "markdown",
      "metadata": {
        "id": "aNfhTPFVUZk2"
      },
      "source": [
        "# For\n",
        "Esta também é uma estrutura de repetição, só que um pouquinho mais avançada, nela você passa um maior número de parâmetros. Os parâmetros ficam em \"range\", nele em ordem consecutivo temos, (início, fim, iterador). Quando o iterador não é declarado por base ele é \"1\", assim, como no exemplo abaixo, o for vai percorrer os números de 0 a 5, somando ao anterior +1. Você deve sempre utilizar \"fim + 1\" caso queira que seu limite máximo seja percorrido pelo for."
      ]
    },
    {
      "cell_type": "code",
      "metadata": {
        "id": "S9nD2mtVUZlD",
        "colab": {
          "base_uri": "https://localhost:8080/"
        },
        "outputId": "e3a06e44-1ce1-4632-ccc7-ec1c38b36226"
      },
      "source": [
        "for n in range(6):\n",
        "  print(\"oi\")"
      ],
      "execution_count": null,
      "outputs": [
        {
          "output_type": "stream",
          "name": "stdout",
          "text": [
            "oi\n",
            "oi\n",
            "oi\n",
            "oi\n",
            "oi\n",
            "oi\n"
          ]
        }
      ]
    },
    {
      "cell_type": "code",
      "metadata": {
        "id": "lLK74ZFFUZlJ",
        "colab": {
          "base_uri": "https://localhost:8080/"
        },
        "outputId": "40c4efe2-87c9-4e8a-cc5b-34f2467bc553"
      },
      "source": [
        "for n in range(6, 0, -1):\n",
        "  #print(\"oi\")\n",
        "  print(n)"
      ],
      "execution_count": null,
      "outputs": [
        {
          "output_type": "stream",
          "name": "stdout",
          "text": [
            "6\n",
            "5\n",
            "4\n",
            "3\n",
            "2\n",
            "1\n"
          ]
        }
      ]
    },
    {
      "cell_type": "code",
      "metadata": {
        "id": "w6qaYYl0XIw0",
        "colab": {
          "base_uri": "https://localhost:8080/",
          "height": 272
        },
        "outputId": "d9fa7772-3506-4163-e1ef-3d02350e7f66"
      },
      "source": [
        "n = int(input(\"Digite um número: \"))\n",
        "for i in range(0, n+1):\n",
        "  print(i)"
      ],
      "execution_count": null,
      "outputs": [
        {
          "output_type": "stream",
          "text": [
            "Digite um número: 13\n",
            "0\n",
            "1\n",
            "2\n",
            "3\n",
            "4\n",
            "5\n",
            "6\n",
            "7\n",
            "8\n",
            "9\n",
            "10\n",
            "11\n",
            "12\n",
            "13\n"
          ],
          "name": "stdout"
        }
      ]
    },
    {
      "cell_type": "code",
      "metadata": {
        "id": "8gy7fve3Xnrz"
      },
      "source": [
        "n = int(input(\"Digite um número: \"))\n",
        "for i in range(0, n+1):\n",
        "  print(i)"
      ],
      "execution_count": null,
      "outputs": []
    },
    {
      "cell_type": "code",
      "metadata": {
        "id": "sa33oEE2YMj-",
        "colab": {
          "base_uri": "https://localhost:8080/",
          "height": 102
        },
        "outputId": "b6ce9db4-6570-470b-b685-be2577b6b73d"
      },
      "source": [
        "f = int(input(\"Digite o número termos: \"))\n",
        "s = 0\n",
        "for i in range(1, f+1):\n",
        "  n = int(input(\"Digite o número a ser somado: \"))\n",
        "  s = n + s\n",
        "print(\"Somatório é igual: \", s)"
      ],
      "execution_count": null,
      "outputs": [
        {
          "output_type": "stream",
          "text": [
            "Digite o número termos: 3\n",
            "Digite o número a ser somado: 10\n",
            "Digite o número a ser somado: 20\n",
            "Digite o número a ser somado: 20\n",
            "Somatório é igual:  50\n"
          ],
          "name": "stdout"
        }
      ]
    },
    {
      "cell_type": "markdown",
      "metadata": {
        "id": "MORKh_gBVO_f"
      },
      "source": [
        "#EXERCÍCIO 3\n",
        "Elabore um programa em Python que exiba a sequência de números\n",
        "inteiros pares, de 0 a 100.\n",
        "\n",
        "RESOLUÇÃO: Usando while e for"
      ]
    },
    {
      "cell_type": "code",
      "metadata": {
        "id": "H_wa_p0uVO_i"
      },
      "source": [
        "n = 0\n",
        "while (n < 100):\n",
        "  n=n+2\n",
        "  print(n)"
      ],
      "execution_count": null,
      "outputs": []
    },
    {
      "cell_type": "code",
      "metadata": {
        "id": "IdER119NVO_p"
      },
      "source": [
        "for n in range(0, 102, 2):\n",
        "  print(n)"
      ],
      "execution_count": null,
      "outputs": []
    },
    {
      "cell_type": "markdown",
      "metadata": {
        "id": "bgNekpwcJWsG"
      },
      "source": [
        "# Listas\n",
        "Uma lista é uma coleção de itens, armazenados em uma única variável. Para declarar uma lista, basta descrever os conteúdos da lista entre colchetes, separados por uma vírgula. Qualquer item pode ser adicionado em uma lista, não importando o tipo de variável."
      ]
    },
    {
      "cell_type": "code",
      "metadata": {
        "id": "ham50NIPJbJm",
        "colab": {
          "base_uri": "https://localhost:8080/"
        },
        "outputId": "7be00a3e-1f2b-4872-947b-103f5334666e"
      },
      "source": [
        "lista = ['gabriel', 100, 'CiMi', 'Power BI', 999 ]\n",
        "print(lista[4])\n"
      ],
      "execution_count": null,
      "outputs": [
        {
          "output_type": "stream",
          "name": "stdout",
          "text": [
            "999\n"
          ]
        }
      ]
    },
    {
      "cell_type": "code",
      "metadata": {
        "id": "Y88Jxu5NVUwB",
        "colab": {
          "base_uri": "https://localhost:8080/",
          "height": 34
        },
        "outputId": "aa9d027a-959d-4919-df56-7bc3d762348a"
      },
      "source": [
        "lista = ['gabriel', 100, 'CiMi', 'Power BI', 999 ]\n",
        "lista[0]=\"candido\"\n",
        "print(lista[0])"
      ],
      "execution_count": null,
      "outputs": [
        {
          "output_type": "stream",
          "text": [
            "candido\n"
          ],
          "name": "stdout"
        }
      ]
    },
    {
      "cell_type": "markdown",
      "metadata": {
        "id": "ko68RAsKMIVu"
      },
      "source": [
        "Exibir lista usando For"
      ]
    },
    {
      "cell_type": "code",
      "metadata": {
        "id": "DuZ62MyoLPr6"
      },
      "source": [
        "lista = ['gabriel', 100, 'CiMi', 'Power BI', 999 ]\n",
        "for n in lista:\n",
        "  print(n)\n",
        "\n",
        "print (\"FIM PRIMEIRA LISTA\")"
      ],
      "execution_count": null,
      "outputs": []
    },
    {
      "cell_type": "markdown",
      "metadata": {
        "id": "oPqJ5BiVftBo"
      },
      "source": [
        "Preencher uma lista usando For"
      ]
    },
    {
      "cell_type": "code",
      "metadata": {
        "id": "NX8afJyyanV6",
        "colab": {
          "base_uri": "https://localhost:8080/"
        },
        "outputId": "fc58f21a-6579-4393-f8bd-03a6c0f198f5"
      },
      "source": [
        "lista = ['gabriel', 100, 'CiMi', 'Power BI', 999 ]\n",
        "\n",
        "for n in lista:\n",
        "  print(n) #FAZER ATÉ AQUI PRIMEIRO\n",
        "\n",
        "print (\"FIM LISTA INICIAL\")\n",
        "\n",
        "i=0\n",
        "\n",
        "for n in lista:\n",
        "  print(\"Digite o valor da posição \", i)\n",
        "  lista[i]=input()\n",
        "  i= i + 1;\n",
        "\n",
        "print (\"FIM DO PREENCHIMENTO\")\n",
        "print (\"OS NOVOS ELEMENTOS DA LISTA SÃO:\")\n",
        "\n",
        "for n in lista:\n",
        "  print(n)\n",
        "\n"
      ],
      "execution_count": null,
      "outputs": [
        {
          "output_type": "stream",
          "name": "stdout",
          "text": [
            "gabriel\n",
            "100\n",
            "CiMi\n",
            "Power BI\n",
            "999\n",
            "FIM LISTA INICIAL\n",
            "Digite o valor da posição  0\n",
            "1\n",
            "Digite o valor da posição  1\n",
            "2\n",
            "Digite o valor da posição  2\n",
            "3\n",
            "Digite o valor da posição  3\n",
            "4\n",
            "Digite o valor da posição  4\n",
            "d\n",
            "FIM DO PREENCHIMENTO\n",
            "OS NOVOS ELEMENTOS DA LISTA SÃO:\n",
            "1\n",
            "2\n",
            "3\n",
            "4\n",
            "d\n"
          ]
        }
      ]
    },
    {
      "cell_type": "code",
      "metadata": {
        "id": "YP5k8DCKQ725",
        "outputId": "36ed80d4-6314-4133-deff-b4d8d639a9a7",
        "colab": {
          "base_uri": "https://localhost:8080/"
        }
      },
      "source": [
        "lista"
      ],
      "execution_count": null,
      "outputs": [
        {
          "output_type": "execute_result",
          "data": {
            "text/plain": [
              "['1', '2', '3', '4', 'd']"
            ]
          },
          "metadata": {},
          "execution_count": 8
        }
      ]
    },
    {
      "cell_type": "code",
      "metadata": {
        "id": "cukCeOXJQ6e5"
      },
      "source": [
        ""
      ],
      "execution_count": null,
      "outputs": []
    },
    {
      "cell_type": "markdown",
      "metadata": {
        "id": "0TTdb2oFfBC2"
      },
      "source": [
        " #    "
      ]
    }
  ]
}